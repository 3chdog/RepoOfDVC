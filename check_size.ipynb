{
 "cells": [
  {
   "cell_type": "code",
   "execution_count": 1,
   "metadata": {},
   "outputs": [],
   "source": [
    "import pandas\n",
    "import os\n",
    "import sys\n",
    "from tqdm import tqdm\n",
    "import shutil\n",
    "import cv2"
   ]
  },
  {
   "cell_type": "code",
   "execution_count": 8,
   "metadata": {},
   "outputs": [],
   "source": [
    "def check_size(trainable_output, size_lowerbound=1080, merge=0):\n",
    "    assert os.path.isdir(trainable_output)\n",
    "    typename = \"trainable\" if merge==0 else \"merged\" #+++++\n",
    "    pip_csv = pandas.read_csv(os.path.join(trainable_output, \"data_{}.csv\".format(typename)), index_col=False) #+++++\n",
    "\n",
    "    tdata = []\n",
    "    for p,n in zip(pip_csv[\"path\"].tolist(), pip_csv[\"name\"] .tolist()):\n",
    "        tdata.append([p,n])\n",
    "        \n",
    "    for p,n in tqdm(tdata):\n",
    "        old_path = os.path.join(trainable_output, p, n)\n",
    "        image = cv2.imread(old_path)\n",
    "        small = image.shape[0] if image.shape[0] < image.shape[1] else image.shape[1]\n",
    "        \n",
    "        if small < size_lowerbound: print(\"Photo with small size: {} || photo: {}\".format(image.shape, old_path))\n"
   ]
  },
  {
   "cell_type": "code",
   "execution_count": 11,
   "metadata": {},
   "outputs": [
    {
     "name": "stderr",
     "output_type": "stream",
     "text": [
      "100%|██████████| 15548/15548 [08:54<00:00, 29.11it/s]\n"
     ]
    }
   ],
   "source": [
    "check_size('/hdd/jack/ai9_project/ai9_mura_dataset_2022_B/20220711_merged', merge=1)"
   ]
  },
  {
   "cell_type": "code",
   "execution_count": null,
   "metadata": {},
   "outputs": [],
   "source": []
  }
 ],
 "metadata": {
  "kernelspec": {
   "display_name": "py38_torch",
   "language": "python",
   "name": "py38"
  },
  "language_info": {
   "codemirror_mode": {
    "name": "ipython",
    "version": 3
   },
   "file_extension": ".py",
   "mimetype": "text/x-python",
   "name": "python",
   "nbconvert_exporter": "python",
   "pygments_lexer": "ipython3",
   "version": "3.8.12"
  },
  "orig_nbformat": 4,
  "vscode": {
   "interpreter": {
    "hash": "31f2aee4e71d21fbe5cf8b01ff0e069b9275f58929596ceb00d14d90e3e16cd6"
   }
  }
 },
 "nbformat": 4,
 "nbformat_minor": 2
}
